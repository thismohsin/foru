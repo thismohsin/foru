{
 "cells": [
  {
   "cell_type": "markdown",
   "metadata": {},
   "source": [
    "https://medium.com/@weidagang/demystifying-a-b-testing-in-machine-learning-a923fe07018d\n",
    "\n",
    "\n",
    "[know](https://chicagodatascience.github.io/MLOps/lecture8/statistical/) \n",
    "[try](https://www.evanmiller.org/ab-testing/)\n",
    "hypothesis\n",
    "chi-square\n",
    "bayseian\n",
    "\n",
    "https://github.com/renatofillinich/ab_test_guide_in_python/blob/master/AB%20testing%20with%20Python.ipynb\n"
   ]
  }
 ],
 "metadata": {
  "language_info": {
   "name": "python"
  }
 },
 "nbformat": 4,
 "nbformat_minor": 2
}
