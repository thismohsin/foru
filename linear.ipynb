{
 "cells": [
  {
   "cell_type": "markdown",
   "metadata": {},
   "source": [
    "pip install scikit-learn matplotlib"
   ]
  },
  {
   "cell_type": "code",
   "execution_count": null,
   "metadata": {},
   "outputs": [],
   "source": [
    "import pandas as pd\n",
    "import matplotlib.pyplot as plt\n",
    "\n",
    "housing_data = pd.read_csv('datasets/housing.csv')\n",
    "housing_data.sample(5)\n",
    "housing_data = housing_data.dropna()\n",
    "housing_data.shape\n",
    "housing_data.describe()\n",
    "housing_data = housing_data.drop(housing_data.loc[housing_data['median_house_value'] == 500001].index) #some drop condition to remove data by index for search condition found"
   ]
  },
  {
   "cell_type": "code",
   "execution_count": null,
   "metadata": {},
   "outputs": [],
   "source": [
    "#This is important .. create another column that will represent (ENUM) in term of numeric value # ML understand number\n",
    "housing_data['ocean_proximity'].unique()\n",
    "housing_data = pd.get_dummies(housing_data, columns=['ocean_proximity'])"
   ]
  },
  {
   "cell_type": "code",
   "execution_count": null,
   "metadata": {},
   "outputs": [],
   "source": [
    "#separate two dataset X[columns that affect price of house] and second one Y[value of house]\n",
    "X = housing_data.drop('median_house_value', axis=1)\n",
    "Y = housing_data['median_house_value']"
   ]
  },
  {
   "cell_type": "code",
   "execution_count": null,
   "metadata": {},
   "outputs": [],
   "source": [
    "from sklearn.model_selection import train_test_split\n",
    "x_train, x_test, y_train, y_test = train_test_split(X, Y, test_size=0.2) #0.2 is 20% of data for testing\n",
    "\n",
    "from sklearn.linear_model import LinearRegression\n",
    "linear_model = LinearRegression(normalize=True, fit_intercept=False).fit(x_train, y_train) # use remaining 80% data to train model"
   ]
  },
  {
   "cell_type": "code",
   "execution_count": null,
   "metadata": {},
   "outputs": [],
   "source": [
    "#test or predict\n",
    "y_pred = linear_model.predict(x_test)\n",
    "df_pred_actual = pd.DataFrame({'predicted': y_pred, 'actual': y_test})\n",
    "df_pred_actual.head(10)\n",
    "from sklearn.metrics import r2_score\n",
    "print(\"Testing_score : \", r2_score(y_test, y_pred))"
   ]
  }
 ],
 "metadata": {
  "kernelspec": {
   "display_name": "bro",
   "language": "python",
   "name": "python3"
  },
  "language_info": {
   "name": "python",
   "version": "3.11.8"
  }
 },
 "nbformat": 4,
 "nbformat_minor": 2
}
